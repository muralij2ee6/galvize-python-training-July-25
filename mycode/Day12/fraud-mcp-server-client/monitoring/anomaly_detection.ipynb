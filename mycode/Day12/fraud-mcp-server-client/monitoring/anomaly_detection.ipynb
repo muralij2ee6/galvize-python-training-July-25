{
 "cells": [
  {
   "metadata": {},
   "cell_type": "code",
   "outputs": [],
   "execution_count": null,
   "source": [
    "# Jupyter Notebook cells:\n",
    "import plotly.express as px\n",
    "from ipywidgets import interact\n",
    "\n",
    "# 3D Fraud Cluster Visualization\n",
    "df = pd.read_parquet(\"data/graph_relationships.parquet\")\n",
    "fig = px.scatter_3d(\n",
    "    df,\n",
    "    x='amount',\n",
    "    y='velocity',\n",
    "    z='time_of_day',\n",
    "    color='fraud_prob',\n",
    "    hover_data=['user_id', 'merchant'],\n",
    "    title=\"Real-Time Fraud Clusters\"\n",
    ")\n",
    "fig.show()\n",
    "\n",
    "# Interactive investigation tool\n",
    "@interact\n",
    "def investigate_fraud(user_id=(1000, 9999)):\n",
    "    client = FraudDetectionClient()\n",
    "    history = client.get_user_history(user_id)\n",
    "    return px.line(\n",
    "        history,\n",
    "        x='timestamp',\n",
    "        y='amount',\n",
    "        color='is_fraud',\n",
    "        title=f\"Transaction History for User {user_id}\"\n",
    "    )"
   ],
   "id": "fc5ad644cdd00b2f"
  }
 ],
 "metadata": {},
 "nbformat": 4,
 "nbformat_minor": 5
}
