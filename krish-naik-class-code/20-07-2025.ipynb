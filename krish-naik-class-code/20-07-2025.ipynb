{
 "cells": [
  {
   "cell_type": "code",
   "execution_count": 5,
   "id": "e9f27ed9",
   "metadata": {},
   "outputs": [],
   "source": [
    "import numpy as np\n",
    "from scipy import stats"
   ]
  },
  {
   "cell_type": "code",
   "execution_count": 4,
   "id": "2c46c610",
   "metadata": {},
   "outputs": [],
   "source": [
    "# !pip install scipy"
   ]
  },
  {
   "cell_type": "code",
   "execution_count": 13,
   "id": "ffd570b3",
   "metadata": {},
   "outputs": [],
   "source": [
    "data = [10, 20, 30, 40, 50, 60, 60, 60, 60, 70, 80, 90, 90, 90, 90, 100]"
   ]
  },
  {
   "cell_type": "code",
   "execution_count": 14,
   "id": "9ced1f9b",
   "metadata": {},
   "outputs": [
    {
     "name": "stdout",
     "output_type": "stream",
     "text": [
      "62.5\n"
     ]
    }
   ],
   "source": [
    "print(np.mean(data))"
   ]
  },
  {
   "cell_type": "code",
   "execution_count": 15,
   "id": "cf89742d",
   "metadata": {},
   "outputs": [
    {
     "name": "stdout",
     "output_type": "stream",
     "text": [
      "60.0\n"
     ]
    }
   ],
   "source": [
    "print(np.median(data))"
   ]
  },
  {
   "cell_type": "code",
   "execution_count": 16,
   "id": "8199781f",
   "metadata": {},
   "outputs": [],
   "source": [
    "mode_via_scipy = stats.mode(data)"
   ]
  },
  {
   "cell_type": "code",
   "execution_count": 17,
   "id": "defe51f8",
   "metadata": {},
   "outputs": [
    {
     "data": {
      "text/plain": [
       "np.int64(60)"
      ]
     },
     "execution_count": 17,
     "metadata": {},
     "output_type": "execute_result"
    }
   ],
   "source": [
    "mode_via_scipy[0]"
   ]
  },
  {
   "cell_type": "code",
   "execution_count": 18,
   "id": "0da2f0e7",
   "metadata": {},
   "outputs": [
    {
     "data": {
      "text/plain": [
       "np.int64(4)"
      ]
     },
     "execution_count": 18,
     "metadata": {},
     "output_type": "execute_result"
    }
   ],
   "source": [
    "mode_via_scipy[1]"
   ]
  },
  {
   "cell_type": "code",
   "execution_count": 19,
   "id": "6ee030ee",
   "metadata": {},
   "outputs": [],
   "source": [
    "scores = [60, 70, 75, 80, 85, 90, 95]"
   ]
  },
  {
   "cell_type": "code",
   "execution_count": 22,
   "id": "41f7974e",
   "metadata": {},
   "outputs": [],
   "source": [
    "q1 = np.percentile(scores, 25) # Q1\n",
    "q3 = np.percentile(scores, 75) # Q1"
   ]
  },
  {
   "cell_type": "code",
   "execution_count": 21,
   "id": "b5378318",
   "metadata": {},
   "outputs": [
    {
     "data": {
      "text/plain": [
       "72.5"
      ]
     },
     "execution_count": 21,
     "metadata": {},
     "output_type": "execute_result"
    }
   ],
   "source": [
    "(70+ 75)/2"
   ]
  },
  {
   "cell_type": "code",
   "execution_count": 23,
   "id": "c3697c45",
   "metadata": {},
   "outputs": [],
   "source": [
    "IQR = q3-q1 # tells us how spread data is in the middle 50% of the data"
   ]
  },
  {
   "cell_type": "code",
   "execution_count": 24,
   "id": "386222b0",
   "metadata": {},
   "outputs": [
    {
     "name": "stdout",
     "output_type": "stream",
     "text": [
      "15.0\n"
     ]
    }
   ],
   "source": [
    "print(IQR)"
   ]
  },
  {
   "cell_type": "code",
   "execution_count": null,
   "id": "742a28d9",
   "metadata": {},
   "outputs": [],
   "source": []
  }
 ],
 "metadata": {
  "kernelspec": {
   "display_name": "base",
   "language": "python",
   "name": "python3"
  },
  "language_info": {
   "codemirror_mode": {
    "name": "ipython",
    "version": 3
   },
   "file_extension": ".py",
   "mimetype": "text/x-python",
   "name": "python",
   "nbconvert_exporter": "python",
   "pygments_lexer": "ipython3",
   "version": "3.12.3"
  }
 },
 "nbformat": 4,
 "nbformat_minor": 5
}
